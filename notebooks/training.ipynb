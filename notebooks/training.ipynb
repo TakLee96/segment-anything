{
 "cells": [
  {
   "cell_type": "code",
   "execution_count": 1,
   "id": "bfd1487a-2c32-45f9-bbde-f42f1c98fc1d",
   "metadata": {},
   "outputs": [
    {
     "name": "stderr",
     "output_type": "stream",
     "text": [
      "C:\\Users\\jiaha\\anaconda3\\envs\\tensorflow\\lib\\site-packages\\tqdm\\auto.py:21: TqdmWarning: IProgress not found. Please update jupyter and ipywidgets. See https://ipywidgets.readthedocs.io/en/stable/user_install.html\n",
      "  from .autonotebook import tqdm as notebook_tqdm\n"
     ]
    }
   ],
   "source": [
    "import numpy as np\n",
    "import torch\n",
    "import torch.nn as nn\n",
    "import torch.nn.functional as F\n",
    "import matplotlib.pyplot as plt\n",
    "import cv2"
   ]
  },
  {
   "cell_type": "code",
   "execution_count": 2,
   "id": "38e188a5-795d-41b7-a248-47dcd07fcd82",
   "metadata": {},
   "outputs": [],
   "source": [
    "import sys\n",
    "sys.path.append(\"..\")\n",
    "from segment_anything import sam_model_registry, SamAutomaticMaskGenerator, SamPredictor\n",
    "\n",
    "sam_checkpoint = \"../sam_vit_h_4b8939.pth\"\n",
    "model_type = \"vit_h\"\n",
    "device = \"cuda\"\n",
    "\n",
    "sam = sam_model_registry[model_type](checkpoint=sam_checkpoint)"
   ]
  },
  {
   "cell_type": "code",
   "execution_count": 3,
   "id": "ff73e710-d541-496a-8a46-e4f12c038681",
   "metadata": {},
   "outputs": [],
   "source": [
    "class MaskDecoder(nn.Module):\n",
    "    def __init__(self):\n",
    "        super().__init__()\n",
    "        self.layers = nn.Sequential(\n",
    "            nn.ConvTranspose2d(256, 128, kernel_size=(2, 2), stride=(2, 2)),\n",
    "            nn.GELU(),\n",
    "            nn.ConvTranspose2d(128, 64, kernel_size=(2, 2), stride=(2, 2)),\n",
    "            nn.GELU(),\n",
    "            nn.ConvTranspose2d(64, 32, kernel_size=(2, 2), stride=(2, 2)),\n",
    "            nn.GELU(),\n",
    "            nn.ConvTranspose2d(32, 20, kernel_size=(2, 2), stride=(2, 2))\n",
    "        )\n",
    "\n",
    "    def forward(self, img_embed):\n",
    "        \"\"\" img_embed: (B, 256, 64, 64)\n",
    "            @returns (B, C, 1024, 1024) logits\n",
    "        \"\"\"\n",
    "        return self.layers(img_embed)\n",
    "\n",
    "class SamLinear(nn.Module):\n",
    "    def __init__(self, sam, C=20):\n",
    "        super().__init__()\n",
    "        self.sam = sam\n",
    "        self.decoder = MaskDecoder()\n",
    "        self.C = C\n",
    "    \n",
    "    def forward(self, img):\n",
    "        \"\"\" img: (B, 3, 1024, 1024)\n",
    "            @returns (B, C, 1024, 1024) logits\n",
    "        \"\"\"\n",
    "        # (B, 256, 64, 64)\n",
    "        with torch.no_grad():\n",
    "            img_embed = self.sam.image_encoder(img)\n",
    "        # (B, C, 1024, 1024)\n",
    "        masks = self.decoder(img_embed)\n",
    "        return masks\n",
    "\n",
    "model = SamLinear(sam)\n",
    "model = model.to(device)"
   ]
  },
  {
   "cell_type": "code",
   "execution_count": 4,
   "id": "65f78ec8-9a97-417d-8afe-c02c0f6af61e",
   "metadata": {},
   "outputs": [],
   "source": [
    "import os\n",
    "from torch.utils.data import Dataset\n",
    "from torch.utils.data import DataLoader\n",
    "from segment_anything.utils.transforms import ResizeLongestSide\n",
    "\n",
    "class PeoplePosesDataset(Dataset):\n",
    "    def __init__(self, device, mode=\"train\", img_size=1024):\n",
    "        assert mode in (\"train\", \"val\")\n",
    "        self.mode = mode\n",
    "        self.root = \"../datasets/people_poses\"\n",
    "        self.image_dir = os.path.join(self.root, f\"{self.mode}_images\")\n",
    "        self.mask_dir = os.path.join(self.root, f\"{self.mode}_segmentations\")\n",
    "        with open(os.path.join(self.root, f\"{self.mode}_id.txt\"), 'r') as lf:\n",
    "            self.data_list = [ s.strip() for s in lf.readlines() ]\n",
    "        self.img_size = img_size\n",
    "        self.transform = ResizeLongestSide(img_size)\n",
    "        self.device = device\n",
    "\n",
    "    def __len__(self):\n",
    "        return len(self.data_list)\n",
    "\n",
    "    def preprocess(self, x):\n",
    "        # TODO(jiahang): clean up this dependency issue\n",
    "        x = (x - model.sam.pixel_mean) / model.sam.pixel_std\n",
    "\n",
    "        h, w = x.shape[-2:]\n",
    "        padh = self.img_size - h\n",
    "        padw = self.img_size - w\n",
    "        x = F.pad(x, (0, padw, 0, padh))\n",
    "        return x\n",
    "    \n",
    "    def __getitem__(self, index):\n",
    "        image = cv2.imread(os.path.join(self.image_dir, self.data_list[index] + \".jpg\"))\n",
    "        label = cv2.imread(os.path.join(self.mask_dir, self.data_list[index] + \".png\"))\n",
    "        image = self.transform.apply_image(image[..., ::-1])\n",
    "        H, W, C = image.shape\n",
    "        image = torch.as_tensor(image, device=self.device)\n",
    "        image = image.permute(2, 0, 1).contiguous()[None, :, :, :]\n",
    "        image = self.preprocess(image)\n",
    "\n",
    "        label = torch.as_tensor(label, device=self.device)\n",
    "        label = label.permute(2, 0, 1).contiguous()[None, :, :, :]\n",
    "        label = F.interpolate(label, (H, W), mode='nearest')\n",
    "        label = label.to(torch.int64)\n",
    "        label = F.pad(label, (0, self.img_size - W, 0, self.img_size - H), value=-1)\n",
    "\n",
    "        # torch.Size([3, 1024, 1024]) torch.Size([1024, 1024])\n",
    "        return image[0], label[0][0]\n",
    "\n",
    "\"\"\"\n",
    "x, y = next(iter(dataloader))\n",
    "x.shape, y.shape, x.dtype, y.dtype\n",
    "(torch.Size([8, 3, 1024, 1024]),\n",
    " torch.Size([8, 1024, 1024]),\n",
    " torch.float32,\n",
    " torch.int8)\n",
    "\"\"\"\n",
    "dataset = PeoplePosesDataset(device)\n",
    "dataloader = DataLoader(dataset, batch_size=1, shuffle=True)"
   ]
  },
  {
   "cell_type": "code",
   "execution_count": null,
   "id": "71a5693b-ee25-43dd-9a68-8f81a8d6177c",
   "metadata": {},
   "outputs": [
    {
     "name": "stdout",
     "output_type": "stream",
     "text": [
      "EPOCH 0:\n"
     ]
    },
    {
     "name": "stderr",
     "output_type": "stream",
     "text": [
      "loss: 3.0137550830841064:   0%|                                                                                      | 6/30462 [00:25<28:50:11,  3.41s/it]"
     ]
    }
   ],
   "source": [
    "from tqdm import tqdm\n",
    "\n",
    "def loss_fn(logits, labels):\n",
    "    \"\"\" logits/labels: (B, C, 1024, 1024) \"\"\"\n",
    "    return F.cross_entropy(logits, labels, ignore_index=-1, reduction='mean')\n",
    "\n",
    "def train_one_epoch(epoch_index):\n",
    "    for data in (pbar := tqdm(dataloader)):\n",
    "        images, labels = data\n",
    "        optimizer.zero_grad()\n",
    "        logits = model(images)\n",
    "        loss = loss_fn(logits, labels)\n",
    "        loss.backward()\n",
    "        optimizer.step()\n",
    "        pbar.set_description(f'loss: {loss}')\n",
    "\n",
    "optimizer = torch.optim.Adam(model.decoder.parameters(), lr=1e-3)\n",
    "for epoch in range(20):\n",
    "    print('EPOCH {}:'.format(epoch))\n",
    "\n",
    "    # Make sure gradient tracking is on, and do a pass over the data\n",
    "    model.train(True)\n",
    "    train_one_epoch(epoch)\n",
    "\n",
    "    model_path = 'model_{}'.format(epoch)\n",
    "    torch.save(model.state_dict(), model_path)"
   ]
  },
  {
   "cell_type": "code",
   "execution_count": null,
   "id": "ec0ed701-4005-45fa-8dfa-b7b58be87da9",
   "metadata": {},
   "outputs": [],
   "source": []
  }
 ],
 "metadata": {
  "kernelspec": {
   "display_name": "Python 3 (ipykernel)",
   "language": "python",
   "name": "python3"
  },
  "language_info": {
   "codemirror_mode": {
    "name": "ipython",
    "version": 3
   },
   "file_extension": ".py",
   "mimetype": "text/x-python",
   "name": "python",
   "nbconvert_exporter": "python",
   "pygments_lexer": "ipython3",
   "version": "3.10.13"
  }
 },
 "nbformat": 4,
 "nbformat_minor": 5
}
