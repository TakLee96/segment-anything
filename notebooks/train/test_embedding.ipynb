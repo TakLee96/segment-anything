{
 "cells": [
  {
   "cell_type": "code",
   "execution_count": 3,
   "id": "1928df60-b3f3-4b8b-b73f-77591d3402a0",
   "metadata": {},
   "outputs": [
    {
     "name": "stdout",
     "output_type": "stream",
     "text": [
      "1000_1234574.npz\n",
      "100111_470108.npz\n",
      "10012_1730659.npz\n",
      "10014_189863.npz\n",
      "100159_1748699.npz\n",
      "100209_505823.npz\n",
      "100222_2157698.npz\n",
      "100231_439666.npz\n",
      "100238_533980.npz\n",
      "100277_496684.npz\n"
     ]
    }
   ],
   "source": [
    "!ls ../datasets/people_poses/train_embeds | head"
   ]
  },
  {
   "cell_type": "code",
   "execution_count": 5,
   "id": "1aabe2d4-fbcc-4fe5-af7c-c8622256666e",
   "metadata": {},
   "outputs": [],
   "source": [
    "import numpy as np"
   ]
  },
  {
   "cell_type": "code",
   "execution_count": 6,
   "id": "a4948f02-d55b-450f-98d2-3a74ec0ae6c0",
   "metadata": {},
   "outputs": [],
   "source": [
    "x = np.load('../../datasets/people_poses/train_embeds/1000_1234574.npz')"
   ]
  },
  {
   "cell_type": "code",
   "execution_count": 7,
   "id": "69e7e4a9-4600-40a0-8da2-fa23a18bead0",
   "metadata": {},
   "outputs": [
    {
     "data": {
      "text/plain": [
       "['embed', 'label']"
      ]
     },
     "execution_count": 7,
     "metadata": {},
     "output_type": "execute_result"
    }
   ],
   "source": [
    "x.files"
   ]
  },
  {
   "cell_type": "code",
   "execution_count": 8,
   "id": "02468319-778a-4fcf-9e16-1d5cfc5ec503",
   "metadata": {},
   "outputs": [
    {
     "data": {
      "text/plain": [
       "((256, 64, 64), dtype('float32'))"
      ]
     },
     "execution_count": 8,
     "metadata": {},
     "output_type": "execute_result"
    }
   ],
   "source": [
    "x['embed'].shape, x['embed'].dtype"
   ]
  },
  {
   "cell_type": "code",
   "execution_count": 9,
   "id": "504ab791-0388-4a24-a51c-c1f752e5e54d",
   "metadata": {},
   "outputs": [
    {
     "data": {
      "text/plain": [
       "((1024, 1024), dtype('int64'))"
      ]
     },
     "execution_count": 9,
     "metadata": {},
     "output_type": "execute_result"
    }
   ],
   "source": [
    "x['label'].shape, x['label'].dtype"
   ]
  },
  {
   "cell_type": "code",
   "execution_count": 11,
   "id": "043547a0-99c8-437f-a38d-4cd69a4b3171",
   "metadata": {},
   "outputs": [],
   "source": [
    "np.savez_compressed('test.npz', embed=x['embed'], label=x['label'].astype(np.uint8))"
   ]
  },
  {
   "cell_type": "code",
   "execution_count": 13,
   "id": "4bc554b4-0a29-465b-8c28-58602a8ea642",
   "metadata": {},
   "outputs": [
    {
     "name": "stdout",
     "output_type": "stream",
     "text": [
      "3.7M\ttest.npz\n"
     ]
    }
   ],
   "source": [
    "!du -h test.npz"
   ]
  },
  {
   "cell_type": "code",
   "execution_count": 14,
   "id": "0be2e055-c4f1-4df5-9453-00765fef99e8",
   "metadata": {},
   "outputs": [
    {
     "name": "stdout",
     "output_type": "stream",
     "text": [
      "3.7M\t../datasets/people_poses/train_embeds/1000_1234574.npz\n"
     ]
    }
   ],
   "source": [
    "!du -h ../../datasets/people_poses/train_embeds/1000_1234574.npz"
   ]
  },
  {
   "cell_type": "code",
   "execution_count": 15,
   "id": "85e7cedb-3df2-4c56-a274-5221206b9096",
   "metadata": {},
   "outputs": [],
   "source": [
    "!rm test.npz"
   ]
  },
  {
   "cell_type": "code",
   "execution_count": null,
   "id": "30843b75-d48e-4c91-bb94-cd98a1a758c9",
   "metadata": {},
   "outputs": [
    {
     "name": "stdout",
     "output_type": "stream",
     "text": [
      "318\n"
     ]
    }
   ],
   "source": [
    "!ls ../../datasets/people_poses/train_embeds | wc -l"
   ]
  },
  {
   "cell_type": "code",
   "execution_count": null,
   "id": "f1184367-2a56-4e7e-841f-c6fd922a714f",
   "metadata": {},
   "outputs": [],
   "source": []
  }
 ],
 "metadata": {
  "kernelspec": {
   "display_name": "Python 3 (ipykernel)",
   "language": "python",
   "name": "python3"
  },
  "language_info": {
   "codemirror_mode": {
    "name": "ipython",
    "version": 3
   },
   "file_extension": ".py",
   "mimetype": "text/x-python",
   "name": "python",
   "nbconvert_exporter": "python",
   "pygments_lexer": "ipython3",
   "version": "3.10.13"
  }
 },
 "nbformat": 4,
 "nbformat_minor": 5
}
