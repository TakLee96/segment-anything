{
 "cells": [
  {
   "cell_type": "code",
   "execution_count": 1,
   "id": "bfd1487a-2c32-45f9-bbde-f42f1c98fc1d",
   "metadata": {},
   "outputs": [
    {
     "name": "stderr",
     "output_type": "stream",
     "text": [
      "C:\\Users\\jiaha\\anaconda3\\envs\\tensorflow\\lib\\site-packages\\tqdm\\auto.py:21: TqdmWarning: IProgress not found. Please update jupyter and ipywidgets. See https://ipywidgets.readthedocs.io/en/stable/user_install.html\n",
      "  from .autonotebook import tqdm as notebook_tqdm\n"
     ]
    }
   ],
   "source": [
    "import numpy as np\n",
    "import torch\n",
    "import torch.nn as nn\n",
    "import torch.nn.functional as F\n",
    "import matplotlib.pyplot as plt\n",
    "import cv2"
   ]
  },
  {
   "cell_type": "code",
   "execution_count": 2,
   "id": "38e188a5-795d-41b7-a248-47dcd07fcd82",
   "metadata": {},
   "outputs": [],
   "source": [
    "import sys\n",
    "sys.path.append(\"..\")\n",
    "from segment_anything import sam_model_registry, SamAutomaticMaskGenerator, SamPredictor\n",
    "\n",
    "sam_checkpoint = \"../sam_vit_h_4b8939.pth\"\n",
    "model_type = \"vit_h\"\n",
    "device = \"cuda\"\n",
    "\n",
    "sam = sam_model_registry[model_type](checkpoint=sam_checkpoint)\n",
    "sam = sam.to(device)"
   ]
  },
  {
   "cell_type": "code",
   "execution_count": 3,
   "id": "65f78ec8-9a97-417d-8afe-c02c0f6af61e",
   "metadata": {},
   "outputs": [],
   "source": [
    "import os\n",
    "from torch.utils.data import Dataset\n",
    "from torch.utils.data import DataLoader\n",
    "from segment_anything.utils.transforms import ResizeLongestSide\n",
    "\n",
    "class PeoplePosesDataset(Dataset):\n",
    "    def __init__(self, device, mode=\"train\", img_size=1024):\n",
    "        assert mode in (\"train\", \"val\")\n",
    "        self.mode = mode\n",
    "        self.root = \"../datasets/people_poses\"\n",
    "        self.image_dir = os.path.join(self.root, f\"{self.mode}_images\")\n",
    "        self.mask_dir = os.path.join(self.root, f\"{self.mode}_segmentations\")\n",
    "        self.embed_dir = os.path.join(self.root, f\"{self.mode}_embeds\")\n",
    "        os.makedirs(self.embed_dir, exist_ok = True) \n",
    "        with open(os.path.join(self.root, f\"{self.mode}_id.txt\"), 'r') as lf:\n",
    "            self.data_list = [ s.strip() for s in lf.readlines() ]\n",
    "        self.img_size = img_size\n",
    "        self.transform = ResizeLongestSide(img_size)\n",
    "        self.device = device\n",
    "\n",
    "    def __len__(self):\n",
    "        return len(self.data_list)\n",
    "\n",
    "    def preprocess(self, x):\n",
    "        # TODO(jiahang): clean up this dependency issue\n",
    "        x = (x - sam.pixel_mean) / sam.pixel_std\n",
    "\n",
    "        h, w = x.shape[-2:]\n",
    "        padh = self.img_size - h\n",
    "        padw = self.img_size - w\n",
    "        x = F.pad(x, (0, padw, 0, padh))\n",
    "        return x\n",
    "    \n",
    "    def __getitem__(self, index):\n",
    "        image = cv2.imread(os.path.join(self.image_dir, self.data_list[index] + \".jpg\"))\n",
    "        label = cv2.imread(os.path.join(self.mask_dir, self.data_list[index] + \".png\"))\n",
    "        image = self.transform.apply_image(image[..., ::-1])\n",
    "        H, W, C = image.shape\n",
    "        image = torch.as_tensor(image, device=self.device)\n",
    "        image = image.permute(2, 0, 1).contiguous()[None, :, :, :]\n",
    "        image = self.preprocess(image)\n",
    "\n",
    "        label = torch.as_tensor(label, device=self.device)\n",
    "        label = label.permute(2, 0, 1).contiguous()[None, :, :, :]\n",
    "        label = F.interpolate(label, (H, W), mode='nearest')\n",
    "        label = label.to(torch.int64)\n",
    "        label = F.pad(label, (0, self.img_size - W, 0, self.img_size - H), value=-1)\n",
    "        \n",
    "        # torch.Size([3, 1024, 1024]), torch.Size([1024, 1024]), string\n",
    "        return image[0],  label[0][0], os.path.join(self.embed_dir, self.data_list[index] + \".npz\")\n",
    "\n",
    "\"\"\"\n",
    "x, y = next(iter(dataloader))\n",
    "x.shape, y.shape, x.dtype, y.dtype\n",
    "(torch.Size([8, 3, 1024, 1024]),\n",
    " torch.Size([8, 1024, 1024]),\n",
    " torch.float32,\n",
    " torch.int8)\n",
    "\"\"\"\n",
    "dataset = PeoplePosesDataset(device)\n",
    "dataloader = DataLoader(dataset, batch_size=1, shuffle=False)"
   ]
  },
  {
   "cell_type": "code",
   "execution_count": null,
   "id": "fd7e2f4b-0f23-4c21-b1bf-cec276f8964d",
   "metadata": {},
   "outputs": [
    {
     "name": "stderr",
     "output_type": "stream",
     "text": [
      "  2%|██▌                                                                                                           | 718/30462 [18:41<12:28:42,  1.51s/it]"
     ]
    }
   ],
   "source": [
    "from tqdm import tqdm\n",
    "\n",
    "for data in tqdm(dataloader):\n",
    "    images, labels, paths = data\n",
    "    with torch.no_grad():\n",
    "        embeds = sam.image_encoder(images)\n",
    "    for embed, label, path in zip(embeds, labels, paths):\n",
    "        np.savez_compressed(path,\n",
    "                            embed=embed.cpu().numpy(),\n",
    "                            label=label.cpu().numpy())"
   ]
  },
  {
   "cell_type": "code",
   "execution_count": null,
   "id": "cb5cea7c-f00d-418e-878b-7e734cd37d85",
   "metadata": {},
   "outputs": [],
   "source": []
  }
 ],
 "metadata": {
  "kernelspec": {
   "display_name": "Python 3 (ipykernel)",
   "language": "python",
   "name": "python3"
  },
  "language_info": {
   "codemirror_mode": {
    "name": "ipython",
    "version": 3
   },
   "file_extension": ".py",
   "mimetype": "text/x-python",
   "name": "python",
   "nbconvert_exporter": "python",
   "pygments_lexer": "ipython3",
   "version": "3.10.13"
  }
 },
 "nbformat": 4,
 "nbformat_minor": 5
}
