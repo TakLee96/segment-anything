{
  "nbformat": 4,
  "nbformat_minor": 0,
  "metadata": {
    "colab": {
      "provenance": [],
      "gpuType": "T4"
    },
    "kernelspec": {
      "name": "python3",
      "display_name": "Python 3"
    },
    "language_info": {
      "name": "python"
    },
    "accelerator": "GPU"
  },
  "cells": [
    {
      "cell_type": "markdown",
      "source": [
        "# CLIP + SAM\n",
        "- Environment Setting\n",
        "- CLIP + SAM Evaluation on People Pose\n",
        "- Hyperparameter Finetuning"
      ],
      "metadata": {
        "id": "IuSVN-W_lSFS"
      }
    },
    {
      "cell_type": "markdown",
      "source": [
        "## Environment Setting"
      ],
      "metadata": {
        "id": "uCLJ7T_wmCl3"
      }
    },
    {
      "cell_type": "markdown",
      "source": [
        "### Mount Google Drive"
      ],
      "metadata": {
        "id": "BcP4E91UmXSK"
      }
    },
    {
      "cell_type": "code",
      "source": [
        "from google.colab import drive\n",
        "drive.mount('/content/drive')"
      ],
      "metadata": {
        "colab": {
          "base_uri": "https://localhost:8080/"
        },
        "id": "EdxI-K6JmFlY",
        "outputId": "e136294a-5c85-430e-b381-9b72f6add39f"
      },
      "execution_count": null,
      "outputs": [
        {
          "output_type": "stream",
          "name": "stdout",
          "text": [
            "Mounted at /content/drive\n"
          ]
        }
      ]
    },
    {
      "cell_type": "markdown",
      "source": [
        "### Install Packages"
      ],
      "metadata": {
        "id": "7eMudSuPmapC"
      }
    },
    {
      "cell_type": "code",
      "source": [
        "!pip install torch opencv-python Pillow\n",
        "!pip install git+https://github.com/openai/CLIP.git\n",
        "!pip install git+https://github.com/facebookresearch/segment-anything.git"
      ],
      "metadata": {
        "colab": {
          "base_uri": "https://localhost:8080/",
          "height": 1000
        },
        "id": "sSLToQlqmHaX",
        "outputId": "8bd298c5-3300-4aa0-b8d0-b1829454b5ef"
      },
      "execution_count": null,
      "outputs": [
        {
          "output_type": "stream",
          "name": "stdout",
          "text": [
            "Requirement already satisfied: torch in /usr/local/lib/python3.10/dist-packages (2.1.0+cu118)\n",
            "Requirement already satisfied: opencv-python in /usr/local/lib/python3.10/dist-packages (4.8.0.76)\n",
            "Requirement already satisfied: Pillow in /usr/local/lib/python3.10/dist-packages (9.4.0)\n",
            "Requirement already satisfied: filelock in /usr/local/lib/python3.10/dist-packages (from torch) (3.13.1)\n",
            "Requirement already satisfied: typing-extensions in /usr/local/lib/python3.10/dist-packages (from torch) (4.5.0)\n",
            "Requirement already satisfied: sympy in /usr/local/lib/python3.10/dist-packages (from torch) (1.12)\n",
            "Requirement already satisfied: networkx in /usr/local/lib/python3.10/dist-packages (from torch) (3.2.1)\n",
            "Requirement already satisfied: jinja2 in /usr/local/lib/python3.10/dist-packages (from torch) (3.1.2)\n",
            "Requirement already satisfied: fsspec in /usr/local/lib/python3.10/dist-packages (from torch) (2023.6.0)\n",
            "Requirement already satisfied: triton==2.1.0 in /usr/local/lib/python3.10/dist-packages (from torch) (2.1.0)\n",
            "Requirement already satisfied: numpy>=1.21.2 in /usr/local/lib/python3.10/dist-packages (from opencv-python) (1.23.5)\n",
            "Requirement already satisfied: MarkupSafe>=2.0 in /usr/local/lib/python3.10/dist-packages (from jinja2->torch) (2.1.3)\n",
            "Requirement already satisfied: mpmath>=0.19 in /usr/local/lib/python3.10/dist-packages (from sympy->torch) (1.3.0)\n",
            "Collecting git+https://github.com/openai/CLIP.git\n",
            "  Cloning https://github.com/openai/CLIP.git to /tmp/pip-req-build-1sp50ov5\n",
            "  Running command git clone --filter=blob:none --quiet https://github.com/openai/CLIP.git /tmp/pip-req-build-1sp50ov5\n",
            "  Resolved https://github.com/openai/CLIP.git to commit a1d071733d7111c9c014f024669f959182114e33\n",
            "  Preparing metadata (setup.py) ... \u001b[?25l\u001b[?25hdone\n",
            "Collecting ftfy (from clip==1.0)\n",
            "  Downloading ftfy-6.1.3-py3-none-any.whl (53 kB)\n",
            "\u001b[2K     \u001b[90m━━━━━━━━━━━━━━━━━━━━━━━━━━━━━━━━━━━━━━━━\u001b[0m \u001b[32m53.4/53.4 kB\u001b[0m \u001b[31m1.1 MB/s\u001b[0m eta \u001b[36m0:00:00\u001b[0m\n",
            "\u001b[?25hRequirement already satisfied: regex in /usr/local/lib/python3.10/dist-packages (from clip==1.0) (2023.6.3)\n",
            "Requirement already satisfied: tqdm in /usr/local/lib/python3.10/dist-packages (from clip==1.0) (4.66.1)\n",
            "Requirement already satisfied: torch in /usr/local/lib/python3.10/dist-packages (from clip==1.0) (2.1.0+cu118)\n",
            "Requirement already satisfied: torchvision in /usr/local/lib/python3.10/dist-packages (from clip==1.0) (0.16.0+cu118)\n",
            "Collecting wcwidth<0.3.0,>=0.2.12 (from ftfy->clip==1.0)\n",
            "  Downloading wcwidth-0.2.12-py2.py3-none-any.whl (34 kB)\n",
            "Requirement already satisfied: filelock in /usr/local/lib/python3.10/dist-packages (from torch->clip==1.0) (3.13.1)\n",
            "Requirement already satisfied: typing-extensions in /usr/local/lib/python3.10/dist-packages (from torch->clip==1.0) (4.5.0)\n",
            "Requirement already satisfied: sympy in /usr/local/lib/python3.10/dist-packages (from torch->clip==1.0) (1.12)\n",
            "Requirement already satisfied: networkx in /usr/local/lib/python3.10/dist-packages (from torch->clip==1.0) (3.2.1)\n",
            "Requirement already satisfied: jinja2 in /usr/local/lib/python3.10/dist-packages (from torch->clip==1.0) (3.1.2)\n",
            "Requirement already satisfied: fsspec in /usr/local/lib/python3.10/dist-packages (from torch->clip==1.0) (2023.6.0)\n",
            "Requirement already satisfied: triton==2.1.0 in /usr/local/lib/python3.10/dist-packages (from torch->clip==1.0) (2.1.0)\n",
            "Requirement already satisfied: numpy in /usr/local/lib/python3.10/dist-packages (from torchvision->clip==1.0) (1.23.5)\n",
            "Requirement already satisfied: requests in /usr/local/lib/python3.10/dist-packages (from torchvision->clip==1.0) (2.31.0)\n",
            "Requirement already satisfied: pillow!=8.3.*,>=5.3.0 in /usr/local/lib/python3.10/dist-packages (from torchvision->clip==1.0) (9.4.0)\n",
            "Requirement already satisfied: MarkupSafe>=2.0 in /usr/local/lib/python3.10/dist-packages (from jinja2->torch->clip==1.0) (2.1.3)\n",
            "Requirement already satisfied: charset-normalizer<4,>=2 in /usr/local/lib/python3.10/dist-packages (from requests->torchvision->clip==1.0) (3.3.2)\n",
            "Requirement already satisfied: idna<4,>=2.5 in /usr/local/lib/python3.10/dist-packages (from requests->torchvision->clip==1.0) (3.4)\n",
            "Requirement already satisfied: urllib3<3,>=1.21.1 in /usr/local/lib/python3.10/dist-packages (from requests->torchvision->clip==1.0) (2.0.7)\n",
            "Requirement already satisfied: certifi>=2017.4.17 in /usr/local/lib/python3.10/dist-packages (from requests->torchvision->clip==1.0) (2023.7.22)\n",
            "Requirement already satisfied: mpmath>=0.19 in /usr/local/lib/python3.10/dist-packages (from sympy->torch->clip==1.0) (1.3.0)\n",
            "Building wheels for collected packages: clip\n",
            "  Building wheel for clip (setup.py) ... \u001b[?25l\u001b[?25hdone\n",
            "  Created wheel for clip: filename=clip-1.0-py3-none-any.whl size=1369500 sha256=21d5ec4a3b13a9de2e9cbd8855ca3257161448059dce479fd498bff4073ca161\n",
            "  Stored in directory: /tmp/pip-ephem-wheel-cache-p6aqoa3a/wheels/da/2b/4c/d6691fa9597aac8bb85d2ac13b112deb897d5b50f5ad9a37e4\n",
            "Successfully built clip\n",
            "Installing collected packages: wcwidth, ftfy, clip\n",
            "  Attempting uninstall: wcwidth\n",
            "    Found existing installation: wcwidth 0.2.10\n",
            "    Uninstalling wcwidth-0.2.10:\n",
            "      Successfully uninstalled wcwidth-0.2.10\n",
            "Successfully installed clip-1.0 ftfy-6.1.3 wcwidth-0.2.12\n"
          ]
        },
        {
          "output_type": "display_data",
          "data": {
            "application/vnd.colab-display-data+json": {
              "pip_warning": {
                "packages": [
                  "wcwidth"
                ]
              }
            }
          },
          "metadata": {}
        },
        {
          "output_type": "stream",
          "name": "stdout",
          "text": [
            "Collecting git+https://github.com/facebookresearch/segment-anything.git\n",
            "  Cloning https://github.com/facebookresearch/segment-anything.git to /tmp/pip-req-build-escjqplo\n",
            "  Running command git clone --filter=blob:none --quiet https://github.com/facebookresearch/segment-anything.git /tmp/pip-req-build-escjqplo\n",
            "  Resolved https://github.com/facebookresearch/segment-anything.git to commit 6fdee8f2727f4506cfbbe553e23b895e27956588\n",
            "  Preparing metadata (setup.py) ... \u001b[?25l\u001b[?25hdone\n",
            "Building wheels for collected packages: segment-anything\n",
            "  Building wheel for segment-anything (setup.py) ... \u001b[?25l\u001b[?25hdone\n",
            "  Created wheel for segment-anything: filename=segment_anything-1.0-py3-none-any.whl size=36588 sha256=34082fd11bd97918f2e2768ed43565ca8bd26ec5d73df9a36ae9d6f9833b09cf\n",
            "  Stored in directory: /tmp/pip-ephem-wheel-cache-2sa_2x42/wheels/10/cf/59/9ccb2f0a1bcc81d4fbd0e501680b5d088d690c6cfbc02dc99d\n",
            "Successfully built segment-anything\n",
            "Installing collected packages: segment-anything\n",
            "Successfully installed segment-anything-1.0\n"
          ]
        }
      ]
    },
    {
      "cell_type": "markdown",
      "source": [
        "### Import Packages"
      ],
      "metadata": {
        "id": "lOJoO73Wmcrz"
      }
    },
    {
      "cell_type": "code",
      "source": [
        "import numpy as np\n",
        "import pandas as pd\n",
        "import torch\n",
        "import matplotlib.pyplot as plt\n",
        "import cv2\n",
        "import torch.nn as nn\n",
        "import torch.nn.functional as F\n",
        "import matplotlib.pyplot as plt\n",
        "\n",
        "from torch.jit import Error\n",
        "\n",
        "# numpy metrics\n",
        "import os\n",
        "from tqdm import tqdm\n",
        "\n",
        "import cv2\n",
        "from segment_anything import build_sam, SamAutomaticMaskGenerator\n",
        "from PIL import Image, ImageDraw\n",
        "import clip\n",
        "\n",
        "import sys\n",
        "from segment_anything import sam_model_registry, SamAutomaticMaskGenerator, SamPredictor"
      ],
      "metadata": {
        "id": "n5BT4xS0mIhg"
      },
      "execution_count": null,
      "outputs": []
    },
    {
      "cell_type": "markdown",
      "source": [
        "### Image Processing, Data Processing"
      ],
      "metadata": {
        "id": "NfsuC046mfRT"
      }
    },
    {
      "cell_type": "code",
      "source": [
        "# Convert Mask's Boundary Box from XYWH to XYXY format\n",
        "def convert_box_xywh_to_xyxy(box):\n",
        "  x1 = box[0]\n",
        "  y1 = box[1]\n",
        "  x2 = box[0] + box[2]\n",
        "  y2 = box[1] + box[3]\n",
        "  if(box[2]==0 or box[3]==0):\n",
        "    print(box[2],box[3],[x1, y1, x2, y2])\n",
        "  return [x1, y1, x2, y2]\n",
        "\n",
        "# Show Only the Segmented Part in the Given Image\n",
        "def segment_image(image, segmentation_mask):\n",
        "    image_array = np.array(image)\n",
        "    segmented_image_array = np.zeros_like(image_array)\n",
        "    segmented_image_array[segmentation_mask] = image_array[segmentation_mask]\n",
        "    segmented_image = Image.fromarray(segmented_image_array)\n",
        "    black_image = Image.new(\"RGB\", image.size, (0, 0, 0))\n",
        "    transparency_mask = np.zeros_like(segmentation_mask, dtype=np.uint8)\n",
        "    transparency_mask[segmentation_mask] = 255\n",
        "    transparency_mask_image = Image.fromarray(transparency_mask, mode='L')\n",
        "    black_image.paste(segmented_image, mask=transparency_mask_image)\n",
        "    return black_image\n",
        "\n",
        "def gt_to_anns_of_label_mask(mask_gt):\n",
        "  labels = np.unique(mask_gt)\n",
        "  anns = []\n",
        "  for label in labels:\n",
        "    # skip background\n",
        "      if label == 0:\n",
        "          continue\n",
        "      mask = np.all(mask_gt == label, axis=-1)\n",
        "      anns.append({\n",
        "        'area': np.sum(mask),\n",
        "        'segmentation': mask,\n",
        "        'label': label,\n",
        "      })\n",
        "  return anns"
      ],
      "metadata": {
        "id": "jHzj7O61mOHR"
      },
      "execution_count": null,
      "outputs": []
    },
    {
      "cell_type": "markdown",
      "source": [
        "### Retrieve Similarity between Image and Text"
      ],
      "metadata": {
        "id": "A9eBAPNUmi-0"
      }
    },
    {
      "cell_type": "code",
      "source": [
        "@torch.no_grad()\n",
        "def retriev(image_features: list, search_text: str) -> int:\n",
        "    # preprocessed_images = [preprocess(image).to(device) for image in elements]\n",
        "    tokenized_text = clip.tokenize([search_text]).to(device)\n",
        "    # stacked_images = torch.stack(preprocessed_images)\n",
        "    # image_features = model.encode_image(stacked_images)\n",
        "    text_features = model.encode_text(tokenized_text)\n",
        "    image_features /= image_features.norm(dim=-1, keepdim=True)\n",
        "    text_features /= text_features.norm(dim=-1, keepdim=True)\n",
        "    probs = 100. * image_features @ text_features.T\n",
        "    return probs[:, 0].softmax(dim=0)"
      ],
      "metadata": {
        "id": "8B9KQuHEmV3k"
      },
      "execution_count": null,
      "outputs": []
    },
    {
      "cell_type": "markdown",
      "source": [
        "### CUDA"
      ],
      "metadata": {
        "id": "la4qev_-nA6g"
      }
    },
    {
      "cell_type": "code",
      "source": [
        "device = torch.device(\"cuda\" if torch.cuda.is_available() else \"cpu\")"
      ],
      "metadata": {
        "id": "Dub6LN3km9J_"
      },
      "execution_count": null,
      "outputs": []
    },
    {
      "cell_type": "markdown",
      "source": [
        "### Load CLIP"
      ],
      "metadata": {
        "id": "pY1iraBumxJ9"
      }
    },
    {
      "cell_type": "code",
      "source": [
        "model, preprocess = clip.load(\"ViT-B/32\", device=device)"
      ],
      "metadata": {
        "colab": {
          "base_uri": "https://localhost:8080/"
        },
        "id": "9cVvX69Rmysm",
        "outputId": "71641389-5201-4c8b-f466-7fe9f83960cf"
      },
      "execution_count": null,
      "outputs": [
        {
          "output_type": "stream",
          "name": "stderr",
          "text": [
            "100%|███████████████████████████████████████| 338M/338M [00:03<00:00, 92.8MiB/s]\n"
          ]
        }
      ]
    },
    {
      "cell_type": "markdown",
      "source": [
        "### Load SAM (Default Params)"
      ],
      "metadata": {
        "id": "_ABw3iAPnGVA"
      }
    },
    {
      "cell_type": "code",
      "source": [
        "sam_checkpoint = \"/content/drive/MyDrive/CSCI567/sam_vit_h_4b8939.pth\"\n",
        "model_type = \"vit_h\"\n",
        "\n",
        "sam = sam_model_registry[model_type](checkpoint=sam_checkpoint)\n",
        "sam = sam.to(device)"
      ],
      "metadata": {
        "id": "boLctCM6nFsB"
      },
      "execution_count": null,
      "outputs": []
    },
    {
      "cell_type": "code",
      "source": [
        "mask_generator_default = SamAutomaticMaskGenerator(sam)"
      ],
      "metadata": {
        "id": "KnxVEDEittdz"
      },
      "execution_count": null,
      "outputs": []
    },
    {
      "cell_type": "markdown",
      "source": [
        "### Load SAM (Best Params)"
      ],
      "metadata": {
        "id": "oPZYi5mwnPlS"
      }
    },
    {
      "cell_type": "markdown",
      "source": [
        "### Class Labels"
      ],
      "metadata": {
        "id": "r3ea6l6xooMW"
      }
    },
    {
      "cell_type": "code",
      "source": [
        "LABELS = [\"Background\",\"Hat\",\"Hair\",\"Glove\",\n",
        "        \"Sunglasses\",\"UpperClothes\",\"Dress\",\"Coat\",\"Socks\",\"Pants\",\n",
        "        \"Jumpsuits\",\"Scarf\",\"Skirt\",\"Face\",\"Left-arm\",\"Right-arm\",\"Left-leg\",\"Right-leg\",\"Left-shoe\",\"Right-shoe\"]"
      ],
      "metadata": {
        "id": "kEuhjWEToquH"
      },
      "execution_count": null,
      "outputs": []
    },
    {
      "cell_type": "markdown",
      "source": [
        "## CLIP + SAM Evaluation on People Pose"
      ],
      "metadata": {
        "id": "SZt4xM4Fl2oG"
      }
    },
    {
      "cell_type": "code",
      "source": [
        "def compute_pix_acc(predicted, target):\n",
        "    assert predicted.shape == target.shape\n",
        "    assert len(predicted.shape) == 2\n",
        "    return (predicted == target).mean()\n",
        "\n",
        "def compute_IOU(predicted, target):\n",
        "    assert predicted.shape == target.shape\n",
        "    assert len(predicted.shape) == 2\n",
        "    intersection = np.logical_and(target, predicted).sum()\n",
        "    union = np.logical_or(target, predicted).sum()\n",
        "    assert union > 0\n",
        "    return intersection / union\n",
        "def compute_metric(name, masks, label):\n",
        "    \"\"\" name: data_id\n",
        "        mask: { label_id: numpy.ndarray(shape=(H, W)) }\n",
        "        label: np.ndarray(shape=(H, W)) --> numbers from 0 to 19\n",
        "    \"\"\"\n",
        "    pix_acc_metric = { \"name\": name }\n",
        "    iou_metric = { \"name\": name }\n",
        "    empty = np.zeros_like(label)\n",
        "    for i, label_name in enumerate(LABELS):\n",
        "        mask_i = masks.get(i, empty)\n",
        "        label_i = (label == i)\n",
        "        if label_i.sum() == 0:\n",
        "            # pandas dataframe automatically skips nan\n",
        "            # when computing .count() and .mean()\n",
        "            iou_metric[label_name] = np.nan\n",
        "            pix_acc_metric[label_name] = np.nan\n",
        "        else:\n",
        "            iou_metric[label_name] = compute_IOU(mask_i, label_i)\n",
        "            pix_acc_metric[label_name] = compute_pix_acc(mask_i, label_i)\n",
        "\n",
        "    return iou_metric, pix_acc_metric"
      ],
      "metadata": {
        "id": "k7fMnYuto3nQ"
      },
      "execution_count": null,
      "outputs": []
    },
    {
      "cell_type": "code",
      "source": [
        "def evaluate(sam_generator, data_cnt=100):\n",
        "  root = \"/content/drive/MyDrive/CSCI567/segment-anything/datasets/people_poses/\"\n",
        "  prompt = \"The object of \"\n",
        "  with open(os.path.join(root, f\"val_id.txt\"), 'r') as lf:\n",
        "      data_list = [ s.strip() for s in lf.readlines() ]\n",
        "\n",
        "  try:\n",
        "    miou_table = []\n",
        "    pix_acc_table = []\n",
        "    for data_name in (pbar := tqdm(data_list[:data_cnt])):\n",
        "      img_path = root +'val_images/' + data_name + '.jpg'\n",
        "      seg_path = root + 'val_segmentations/' + data_name + '.png'\n",
        "      # Read Image and Ground truth mask\n",
        "      image = cv2.imread(img_path)\n",
        "      if image is None:\n",
        "          print(\"\\nimage is None\", data_name)\n",
        "          continue\n",
        "      image = cv2.cvtColor(image, cv2.COLOR_BGR2RGB)\n",
        "      mask_gt = cv2.imread(seg_path)\n",
        "      if mask_gt is None:\n",
        "          print(\"\\nmask_gt is None\", data_name)\n",
        "          continue\n",
        "\n",
        "      # Generate masks for all object by SAM\n",
        "      masks = sam_generator.generate(image)\n",
        "\n",
        "      # Cut out all masks\n",
        "      input_img = Image.open(img_path)\n",
        "      cropped_boxes = []\n",
        "\n",
        "      for mask in masks:\n",
        "        crop_box = convert_box_xywh_to_xyxy(mask['bbox'])\n",
        "        if(crop_box[0]==crop_box[2] or crop_box[1]==crop_box[3]):\n",
        "          continue\n",
        "        cropped_boxes.append(segment_image(input_img, mask[\"segmentation\"]).crop(crop_box))\n",
        "\n",
        "      preprocessed_images = [preprocess(img).to(device) for img in cropped_boxes]\n",
        "      stacked_images = torch.stack(preprocessed_images)\n",
        "      image_features = model.encode_image(stacked_images)\n",
        "\n",
        "      # Get Mask By Label Id\n",
        "      anns = gt_to_anns_of_label_mask(mask_gt)\n",
        "      img_miou_sum , img_pixacc_sum, num_class = 0, 0, len(anns)\n",
        "      predict_masks = {}\n",
        "      for ann in anns:\n",
        "        scores = retriev(image_features, prompt+LABELS[ann['label']])\n",
        "        ## Get Label Index with Highest Score\n",
        "        predict_idx = np.argmax(scores.cpu())\n",
        "        predict_idx = predict_idx.cpu()\n",
        "        predict_masks[ann['label']] = masks[predict_idx][\"segmentation\"]\n",
        "      miou, pix_acc = compute_metric(data_name, predict_masks, mask_gt[:,:,0])\n",
        "      miou_table.append(miou)\n",
        "      pix_acc_table.append(pix_acc)\n",
        "    return miou_table, pix_acc_table\n",
        "\n",
        "  except Exception as e:\n",
        "    print(e)\n",
        "    print(miou_table)\n",
        "    print(pix_acc_table)\n",
        "\n",
        "def export_csv(miou_table, pix_acc_table, miou_csv_name=\"random_miou.csv\", pix_acc_csv_name=\"random_pix_acc.csv\", export = True):\n",
        "  miou_table_ = pd.DataFrame(miou_table, columns=miou_table[0].keys()).set_index('name')\n",
        "  pix_acc_table_ = pd.DataFrame(pix_acc_table, columns=pix_acc_table[0].keys()).set_index('name')\n",
        "  if export:\n",
        "    miou_table_.to_csv('/content/drive/MyDrive/CSCI567/segment-anything/notebooks/'+miou_csv_name)\n",
        "    pix_acc_table_.to_csv('/content/drive/MyDrive/CSCI567/segment-anything/notebooks/'+pix_acc_csv_name)\n",
        "\n",
        "\n",
        "  # print('miou:\\n', miou_table_.mean(axis=None))\n",
        "  # print('miou per class:\\n', miou_table_.mean())\n",
        "  print()\n",
        "  # print('pix_acc:\\n', pix_acc_table_.mean(axis=None))\n",
        "  # print('pix_acc per class:\\n', pix_acc_table_.mean())\n",
        "  return miou_table_.mean(), pix_acc_table_.mean()"
      ],
      "metadata": {
        "id": "pg6iwlxWo8uZ"
      },
      "execution_count": null,
      "outputs": []
    },
    {
      "cell_type": "code",
      "source": [
        "# mask_generator_default = SamAutomaticMaskGenerator(\n",
        "#     sam,\n",
        "#     points_per_side = 32,\n",
        "#     points_per_batch = 64,\n",
        "#     pred_iou_thresh = 0.88,\n",
        "#     stability_score_thresh = 0.95,\n",
        "#     stability_score_offset = 1.0,\n",
        "#     box_nms_thresh = 0.7,\n",
        "#     crop_n_layers = 0,\n",
        "#     crop_nms_thresh = 0.7,\n",
        "#     crop_overlap_ratio = 512 / 1500,\n",
        "#     crop_n_points_downscale_factor = 1,\n",
        "#     point_grids = None,\n",
        "#     min_mask_region_area = 0,\n",
        "#     output_mode = \"binary_mask\"\n",
        "#   )"
      ],
      "metadata": {
        "id": "Jn8u7us3nPC6"
      },
      "execution_count": null,
      "outputs": []
    },
    {
      "cell_type": "markdown",
      "source": [
        "### Evaluate on Default Sam Generator"
      ],
      "metadata": {
        "id": "V4VJ3lX1tTS4"
      }
    },
    {
      "cell_type": "code",
      "source": [
        "miou_table, pix_acc_table = evaluate(mask_generator_default)"
      ],
      "metadata": {
        "colab": {
          "base_uri": "https://localhost:8080/"
        },
        "id": "xm-EXhUspdoe",
        "outputId": "e39cc3b3-d6b8-4ca2-cda3-1909e47076be"
      },
      "execution_count": null,
      "outputs": [
        {
          "output_type": "stream",
          "name": "stderr",
          "text": [
            "  3%|▎         | 3/100 [00:23<12:30,  7.74s/it]"
          ]
        },
        {
          "output_type": "stream",
          "name": "stdout",
          "text": [
            "2 0 [20, 98, 22, 98]\n"
          ]
        },
        {
          "output_type": "stream",
          "name": "stderr",
          "text": [
            " 33%|███▎      | 33/100 [04:08<08:13,  7.37s/it]"
          ]
        },
        {
          "output_type": "stream",
          "name": "stdout",
          "text": [
            "0 9 [60, 178, 60, 187]\n"
          ]
        },
        {
          "output_type": "stream",
          "name": "stderr",
          "text": [
            " 56%|█████▌    | 56/100 [06:54<05:04,  6.93s/it]"
          ]
        },
        {
          "output_type": "stream",
          "name": "stdout",
          "text": [
            "6 0 [29, 116, 35, 116]\n",
            "6 0 [29, 116, 35, 116]\n",
            "6 0 [29, 116, 35, 116]\n"
          ]
        },
        {
          "output_type": "stream",
          "name": "stderr",
          "text": [
            " 77%|███████▋  | 77/100 [09:27<02:48,  7.31s/it]"
          ]
        },
        {
          "output_type": "stream",
          "name": "stdout",
          "text": [
            "0 7 [68, 176, 68, 183]\n",
            "0 7 [68, 176, 68, 183]\n"
          ]
        },
        {
          "output_type": "stream",
          "name": "stderr",
          "text": [
            "100%|██████████| 100/100 [12:12<00:00,  7.32s/it]\n"
          ]
        }
      ]
    },
    {
      "cell_type": "code",
      "source": [
        "miou_mean_default_100, pixacc_mean_default_100 = export_csv(miou_table, pix_acc_table, miou_csv_name=\"random_miou_default_100.csv\", pix_acc_csv_name=\"random_pix_acc_default_100.csv\")\n",
        "print('miou per class\\n', miou_mean_default_100)"
      ],
      "metadata": {
        "colab": {
          "base_uri": "https://localhost:8080/"
        },
        "id": "QG-WXukQ2Mgv",
        "outputId": "4cf279e7-cdfa-42ee-b953-916ef32ecbb6"
      },
      "execution_count": null,
      "outputs": [
        {
          "output_type": "stream",
          "name": "stdout",
          "text": [
            "\n",
            "miou per class\n",
            " Background      0.000000\n",
            "Hat             0.317580\n",
            "Hair            0.264699\n",
            "Glove           0.091455\n",
            "Sunglasses      0.001587\n",
            "UpperClothes    0.203190\n",
            "Dress           0.000000\n",
            "Coat            0.344618\n",
            "Socks           0.076216\n",
            "Pants           0.371332\n",
            "Jumpsuits       0.009348\n",
            "Scarf                NaN\n",
            "Skirt           0.300369\n",
            "Face            0.159994\n",
            "Left-arm        0.172775\n",
            "Right-arm       0.109500\n",
            "Left-leg        0.222619\n",
            "Right-leg       0.110006\n",
            "Left-shoe       0.137264\n",
            "Right-shoe      0.104864\n",
            "dtype: float64\n"
          ]
        }
      ]
    },
    {
      "cell_type": "markdown",
      "source": [
        "### Evaluate on Other Sams"
      ],
      "metadata": {
        "id": "uGX4yEU6w1LX"
      }
    },
    {
      "cell_type": "markdown",
      "source": [
        "#### 1: points_per_side"
      ],
      "metadata": {
        "id": "whqlE3_q7TcT"
      }
    },
    {
      "cell_type": "code",
      "source": [
        "mask_generator_1 = SamAutomaticMaskGenerator(\n",
        "    sam,\n",
        "    points_per_side = 16,\n",
        "    points_per_batch = 64,\n",
        "    pred_iou_thresh = 0.88,\n",
        "    stability_score_thresh = 0.95,\n",
        "    stability_score_offset = 1.0,\n",
        "    box_nms_thresh = 0.7,\n",
        "    crop_n_layers = 0,\n",
        "    crop_nms_thresh = 0.7,\n",
        "    crop_overlap_ratio = 512 / 1500,\n",
        "    crop_n_points_downscale_factor = 1,\n",
        "    point_grids = None,\n",
        "    min_mask_region_area = 0,\n",
        "    output_mode = \"binary_mask\"\n",
        "  )"
      ],
      "metadata": {
        "id": "25-jSG0s3ePJ"
      },
      "execution_count": null,
      "outputs": []
    },
    {
      "cell_type": "code",
      "source": [
        "miou_table_1, pix_acc_table_1 = evaluate(mask_generator_1)"
      ],
      "metadata": {
        "colab": {
          "base_uri": "https://localhost:8080/"
        },
        "id": "iDYvTDxXplEm",
        "outputId": "b8362abf-fa2a-4aa6-9b8a-4b96a2051fd3"
      },
      "execution_count": null,
      "outputs": [
        {
          "output_type": "stream",
          "name": "stderr",
          "text": [
            " 40%|████      | 40/100 [02:11<03:12,  3.20s/it]"
          ]
        },
        {
          "output_type": "stream",
          "name": "stdout",
          "text": [
            "3 0 [52, 144, 55, 144]\n"
          ]
        },
        {
          "output_type": "stream",
          "name": "stderr",
          "text": [
            " 56%|█████▌    | 56/100 [03:02<02:17,  3.11s/it]"
          ]
        },
        {
          "output_type": "stream",
          "name": "stdout",
          "text": [
            "0 9 [55, 75, 55, 84]\n",
            "0 10 [55, 74, 55, 84]\n"
          ]
        },
        {
          "output_type": "stream",
          "name": "stderr",
          "text": [
            "100%|██████████| 100/100 [05:22<00:00,  3.23s/it]\n"
          ]
        }
      ]
    },
    {
      "cell_type": "code",
      "source": [
        "miou_mean_1_100, pixacc_mean_1_100 = export_csv(miou_table_1, pix_acc_table_1, miou_csv_name=\"random_miou_1_100.csv\", pix_acc_csv_name=\"random_pix_acc_1_100.csv\", export = False)\n",
        "# print('miou per class\\n', miou_mean_1_100)\n",
        "print(\"miou per class difference\\n\", miou_mean_1_100-miou_mean_default_100)"
      ],
      "metadata": {
        "colab": {
          "base_uri": "https://localhost:8080/"
        },
        "id": "rEJ2gvp33Yyg",
        "outputId": "ea4c336b-2a4d-4a12-9676-899158305a3a"
      },
      "execution_count": null,
      "outputs": [
        {
          "output_type": "stream",
          "name": "stdout",
          "text": [
            "\n",
            "miou per class difference\n",
            " Background      0.000000\n",
            "Hat            -0.031417\n",
            "Hair           -0.016496\n",
            "Glove          -0.070638\n",
            "Sunglasses      0.062702\n",
            "UpperClothes    0.020409\n",
            "Dress           0.000000\n",
            "Coat            0.008805\n",
            "Socks           0.018756\n",
            "Pants          -0.034392\n",
            "Jumpsuits       0.000974\n",
            "Scarf                NaN\n",
            "Skirt           0.045313\n",
            "Face            0.010937\n",
            "Left-arm       -0.011097\n",
            "Right-arm       0.026943\n",
            "Left-leg       -0.012151\n",
            "Right-leg       0.015227\n",
            "Left-shoe       0.008581\n",
            "Right-shoe      0.000299\n",
            "dtype: float64\n"
          ]
        }
      ]
    },
    {
      "cell_type": "markdown",
      "source": [
        "#### 2: points_per_side"
      ],
      "metadata": {
        "id": "oAl99w-W7WHK"
      }
    },
    {
      "cell_type": "code",
      "source": [
        "mask_generator_2 = SamAutomaticMaskGenerator(\n",
        "    sam,\n",
        "    points_per_side = 64,\n",
        "    points_per_batch = 64,\n",
        "    pred_iou_thresh = 0.88,\n",
        "    stability_score_thresh = 0.95,\n",
        "    stability_score_offset = 1.0,\n",
        "    box_nms_thresh = 0.7,\n",
        "    crop_n_layers = 0,\n",
        "    crop_nms_thresh = 0.7,\n",
        "    crop_overlap_ratio = 512 / 1500,\n",
        "    crop_n_points_downscale_factor = 1,\n",
        "    point_grids = None,\n",
        "    min_mask_region_area = 0,\n",
        "    output_mode = \"binary_mask\"\n",
        "  )"
      ],
      "metadata": {
        "id": "8O6-EDti7Xyr"
      },
      "execution_count": null,
      "outputs": []
    },
    {
      "cell_type": "code",
      "source": [
        "miou_table_2, pix_acc_table_2 = evaluate(mask_generator_2)"
      ],
      "metadata": {
        "colab": {
          "base_uri": "https://localhost:8080/"
        },
        "id": "5zLGOrGF7ZV8",
        "outputId": "1b609640-4599-45e4-a356-d39c6735bf71"
      },
      "execution_count": null,
      "outputs": [
        {
          "output_type": "stream",
          "name": "stderr",
          "text": [
            "\r  0%|          | 0/100 [00:00<?, ?it/s]"
          ]
        },
        {
          "output_type": "stream",
          "name": "stdout",
          "text": [
            "6 0 [44, 248, 50, 248]\n"
          ]
        },
        {
          "output_type": "stream",
          "name": "stderr",
          "text": [
            "  3%|▎         | 3/100 [00:59<32:00, 19.80s/it]"
          ]
        },
        {
          "output_type": "stream",
          "name": "stdout",
          "text": [
            "2 0 [21, 79, 23, 79]\n",
            "1 0 [21, 79, 22, 79]\n",
            "2 0 [21, 79, 23, 79]\n"
          ]
        },
        {
          "output_type": "stream",
          "name": "stderr",
          "text": [
            "  8%|▊         | 8/100 [02:40<31:43, 20.69s/it]"
          ]
        },
        {
          "output_type": "stream",
          "name": "stdout",
          "text": [
            "0 2 [50, 165, 50, 167]\n",
            "0 2 [50, 165, 50, 167]\n",
            "0 2 [50, 165, 50, 167]\n",
            "0 2 [50, 165, 50, 167]\n"
          ]
        },
        {
          "output_type": "stream",
          "name": "stderr",
          "text": [
            "\r  9%|▉         | 9/100 [02:58<30:09, 19.89s/it]"
          ]
        },
        {
          "output_type": "stream",
          "name": "stdout",
          "text": [
            "7 0 [81, 0, 88, 0]\n"
          ]
        },
        {
          "output_type": "stream",
          "name": "stderr",
          "text": [
            " 33%|███▎      | 33/100 [10:57<21:59, 19.69s/it]"
          ]
        },
        {
          "output_type": "stream",
          "name": "stdout",
          "text": [
            "0 9 [60, 178, 60, 187]\n",
            "0 9 [60, 178, 60, 187]\n",
            "0 9 [60, 178, 60, 187]\n",
            "0 3 [141, 164, 141, 167]\n",
            "0 3 [141, 164, 141, 167]\n"
          ]
        },
        {
          "output_type": "stream",
          "name": "stderr",
          "text": [
            " 40%|████      | 40/100 [13:11<18:54, 18.90s/it]"
          ]
        },
        {
          "output_type": "stream",
          "name": "stdout",
          "text": [
            "0.0 1.0 [39.0, 136.0, 39.0, 137.0]\n"
          ]
        },
        {
          "output_type": "stream",
          "name": "stderr",
          "text": [
            " 53%|█████▎    | 53/100 [17:18<14:51, 18.96s/it]"
          ]
        },
        {
          "output_type": "stream",
          "name": "stdout",
          "text": [
            "0 0 [9, 0, 9, 0]\n",
            "0 0 [9, 0, 9, 0]\n"
          ]
        },
        {
          "output_type": "stream",
          "name": "stderr",
          "text": [
            " 55%|█████▌    | 55/100 [17:52<13:32, 18.04s/it]"
          ]
        },
        {
          "output_type": "stream",
          "name": "stdout",
          "text": [
            "5.0 0.0 [103.0, 8.0, 108.0, 8.0]\n",
            "5.0 0.0 [103.0, 8.0, 108.0, 8.0]\n",
            "5.0 0.0 [103.0, 8.0, 108.0, 8.0]\n"
          ]
        },
        {
          "output_type": "stream",
          "name": "stderr",
          "text": [
            "\r 56%|█████▌    | 56/100 [18:10<13:09, 17.94s/it]"
          ]
        },
        {
          "output_type": "stream",
          "name": "stdout",
          "text": [
            "0 9 [55, 75, 55, 84]\n",
            "0 9 [55, 75, 55, 84]\n",
            "0 9 [55, 75, 55, 84]\n",
            "0 9 [55, 75, 55, 84]\n",
            "0 10 [55, 74, 55, 84]\n",
            "0 10 [55, 74, 55, 84]\n",
            "0 9 [55, 75, 55, 84]\n",
            "0 9 [55, 75, 55, 84]\n",
            "0 10 [55, 74, 55, 84]\n"
          ]
        },
        {
          "output_type": "stream",
          "name": "stderr",
          "text": [
            " 58%|█████▊    | 58/100 [18:49<13:09, 18.79s/it]"
          ]
        },
        {
          "output_type": "stream",
          "name": "stdout",
          "text": [
            "2 0 [75, 180, 77, 180]\n",
            "1 0 [15, 203, 16, 203]\n",
            "0 2 [99, 117, 99, 119]\n"
          ]
        },
        {
          "output_type": "stream",
          "name": "stderr",
          "text": [
            "\r 59%|█████▉    | 59/100 [19:09<13:05, 19.15s/it]"
          ]
        },
        {
          "output_type": "stream",
          "name": "stdout",
          "text": [
            "0 12 [33, 51, 33, 63]\n",
            "0 12 [33, 51, 33, 63]\n",
            "0 3 [29, 59, 29, 62]\n",
            "0 3 [29, 59, 29, 62]\n",
            "0 3 [29, 59, 29, 62]\n"
          ]
        },
        {
          "output_type": "stream",
          "name": "stderr",
          "text": [
            " 70%|███████   | 70/100 [22:39<09:29, 19.00s/it]"
          ]
        },
        {
          "output_type": "stream",
          "name": "stdout",
          "text": [
            "2 0 [125, 61, 127, 61]\n",
            "2 0 [125, 61, 127, 61]\n",
            "3 0 [133, 61, 136, 61]\n",
            "2 0 [138, 37, 140, 37]\n",
            "3 0 [133, 61, 136, 61]\n",
            "0 5 [94, 10, 94, 15]\n",
            "0 5 [94, 10, 94, 15]\n",
            "2 0 [138, 37, 140, 37]\n"
          ]
        },
        {
          "output_type": "stream",
          "name": "stderr",
          "text": [
            " 75%|███████▌  | 75/100 [24:15<07:58, 19.12s/it]"
          ]
        },
        {
          "output_type": "stream",
          "name": "stdout",
          "text": [
            "0 4 [0, 15, 0, 19]\n"
          ]
        },
        {
          "output_type": "stream",
          "name": "stderr",
          "text": [
            " 77%|███████▋  | 77/100 [24:54<07:23, 19.28s/it]"
          ]
        },
        {
          "output_type": "stream",
          "name": "stdout",
          "text": [
            "0 8 [123, 215, 123, 223]\n",
            "0 8 [123, 215, 123, 223]\n",
            "0 7 [68, 176, 68, 183]\n",
            "0 7 [68, 176, 68, 183]\n",
            "0 7 [73, 136, 73, 143]\n",
            "0 7 [73, 136, 73, 143]\n",
            "0 7 [73, 136, 73, 143]\n"
          ]
        },
        {
          "output_type": "stream",
          "name": "stderr",
          "text": [
            " 96%|█████████▌| 96/100 [30:54<01:17, 19.31s/it]"
          ]
        },
        {
          "output_type": "stream",
          "name": "stdout",
          "text": [
            "2 0 [100, 305, 102, 305]\n",
            "2 0 [100, 305, 102, 305]\n"
          ]
        },
        {
          "output_type": "stream",
          "name": "stderr",
          "text": [
            "100%|██████████| 100/100 [32:08<00:00, 19.28s/it]\n"
          ]
        }
      ]
    },
    {
      "cell_type": "code",
      "source": [
        "miou_mean_2_100, pixacc_mean_2_100 = export_csv(miou_table_2, pix_acc_table_2, miou_csv_name=\"random_miou_2_100.csv\", pix_acc_csv_name=\"random_pix_acc_2_100.csv\", export = False)\n",
        "# print('miou per class\\n', miou_mean_1_100)\n",
        "print(\"miou per class difference\\n\", miou_mean_2_100-miou_mean_default_100)"
      ],
      "metadata": {
        "colab": {
          "base_uri": "https://localhost:8080/"
        },
        "id": "4G6uR9BwHWkV",
        "outputId": "23cb95dc-c12f-4629-db7c-67d324c328f5"
      },
      "execution_count": null,
      "outputs": [
        {
          "output_type": "stream",
          "name": "stdout",
          "text": [
            "\n",
            "miou per class difference\n",
            " Background      0.000000\n",
            "Hat             0.011985\n",
            "Hair           -0.005930\n",
            "Glove          -0.059620\n",
            "Sunglasses      0.023174\n",
            "UpperClothes   -0.002102\n",
            "Dress           0.000000\n",
            "Coat           -0.029023\n",
            "Socks           0.000088\n",
            "Pants          -0.043421\n",
            "Jumpsuits       0.000091\n",
            "Scarf                NaN\n",
            "Skirt           0.046035\n",
            "Face           -0.031783\n",
            "Left-arm        0.000494\n",
            "Right-arm       0.010561\n",
            "Left-leg        0.000318\n",
            "Right-leg       0.026868\n",
            "Left-shoe       0.019276\n",
            "Right-shoe     -0.033610\n",
            "dtype: float64\n"
          ]
        }
      ]
    },
    {
      "cell_type": "markdown",
      "source": [
        "#### 3: some thresholds"
      ],
      "metadata": {
        "id": "P2ipqkAox7ox"
      }
    },
    {
      "cell_type": "code",
      "source": [
        "mask_generator_3 = SamAutomaticMaskGenerator(\n",
        "    sam,\n",
        "    points_per_side = 32,\n",
        "    points_per_batch = 64,\n",
        "    pred_iou_thresh = 0.95,\n",
        "    stability_score_thresh = 0.95,\n",
        "    stability_score_offset = 1.0,\n",
        "    box_nms_thresh = 0.9,\n",
        "    crop_n_layers = 0,\n",
        "    crop_nms_thresh = 0.9,\n",
        "    crop_overlap_ratio = 512 / 1500,\n",
        "    crop_n_points_downscale_factor = 1,\n",
        "    point_grids = None,\n",
        "    min_mask_region_area = 0,\n",
        "    output_mode = \"binary_mask\"\n",
        "  )"
      ],
      "metadata": {
        "id": "g_101cl2x2Sp"
      },
      "execution_count": null,
      "outputs": []
    },
    {
      "cell_type": "code",
      "source": [
        "miou_table_3, pix_acc_table_3 = evaluate(mask_generator_3)"
      ],
      "metadata": {
        "colab": {
          "base_uri": "https://localhost:8080/"
        },
        "id": "2ltuGlO6yOiD",
        "outputId": "1ebc8d94-4b03-46b3-de7c-c629a9f332f2"
      },
      "execution_count": null,
      "outputs": [
        {
          "output_type": "stream",
          "name": "stderr",
          "text": [
            "100%|██████████| 100/100 [15:17<00:00,  9.17s/it]\n"
          ]
        }
      ]
    },
    {
      "cell_type": "code",
      "source": [
        "miou_mean_3_100, pixacc_mean_3_100 = export_csv(miou_table_3, pix_acc_table_3, miou_csv_name=\"random_miou_3_100.csv\", pix_acc_csv_name=\"random_pix_acc_3_100.csv\", export = False)\n",
        "# print('miou per class\\n', miou_mean_1_100)\n",
        "print(\"miou per class difference\\n\", miou_mean_3_100-miou_mean_default_100)"
      ],
      "metadata": {
        "colab": {
          "base_uri": "https://localhost:8080/"
        },
        "id": "7mtjotX63WHx",
        "outputId": "edb8b935-5641-4e09-f72e-db68ff985af3"
      },
      "execution_count": null,
      "outputs": [
        {
          "output_type": "stream",
          "name": "stdout",
          "text": [
            "\n",
            "miou per class difference\n",
            " Background      0.000000\n",
            "Hat             0.020196\n",
            "Hair           -0.020855\n",
            "Glove          -0.027154\n",
            "Sunglasses      0.000000\n",
            "UpperClothes    0.026187\n",
            "Dress           0.000000\n",
            "Coat           -0.016488\n",
            "Socks          -0.052758\n",
            "Pants           0.011221\n",
            "Jumpsuits       0.000000\n",
            "Scarf                NaN\n",
            "Skirt           0.000380\n",
            "Face           -0.011301\n",
            "Left-arm       -0.080770\n",
            "Right-arm      -0.004838\n",
            "Left-leg       -0.078534\n",
            "Right-leg      -0.017251\n",
            "Left-shoe      -0.040621\n",
            "Right-shoe     -0.024334\n",
            "dtype: float64\n"
          ]
        }
      ]
    },
    {
      "cell_type": "markdown",
      "source": [
        "#### 4: Hyperparameters in the predictor notebook: https://colab.research.google.com/drive/12yvkr9VomnceYOdQ5dbdoaPIqXRiOPmb"
      ],
      "metadata": {
        "id": "HbWix8fyfW2c"
      }
    },
    {
      "cell_type": "code",
      "source": [
        "mask_generator_4 = SamAutomaticMaskGenerator(\n",
        "    sam,\n",
        "    points_per_side = 32,\n",
        "    points_per_batch = 64,\n",
        "    pred_iou_thresh = 0.86,\n",
        "    stability_score_thresh = 0.92,\n",
        "    stability_score_offset = 1.0,\n",
        "    box_nms_thresh = 0.7,\n",
        "    crop_n_layers = 1,\n",
        "    crop_nms_thresh = 0.7,\n",
        "    crop_overlap_ratio = 512 / 1500,\n",
        "    crop_n_points_downscale_factor = 2,\n",
        "    point_grids = None,\n",
        "    min_mask_region_area = 100,\n",
        "    output_mode = \"binary_mask\"\n",
        "  )"
      ],
      "metadata": {
        "id": "1Cyhrf2pfYpP"
      },
      "execution_count": null,
      "outputs": []
    },
    {
      "cell_type": "code",
      "source": [
        "miou_table_4, pix_acc_table_4 = evaluate(mask_generator_4)"
      ],
      "metadata": {
        "colab": {
          "base_uri": "https://localhost:8080/"
        },
        "id": "y0Apm__qf2jF",
        "outputId": "7cd5f3fa-5ee8-4e05-e7a4-c0e4972243d9"
      },
      "execution_count": null,
      "outputs": [
        {
          "metadata": {
            "tags": null
          },
          "name": "stderr",
          "output_type": "stream",
          "text": [
            "\r  0%|          | 0/100 [00:00<?, ?it/s]"
          ]
        },
        {
          "metadata": {
            "tags": null
          },
          "name": "stdout",
          "output_type": "stream",
          "text": [
            "6 0 [44, 248, 50, 248]\n"
          ]
        },
        {
          "metadata": {
            "tags": null
          },
          "name": "stderr",
          "output_type": "stream",
          "text": [
            "\r  1%|          | 1/100 [02:50<4:41:56, 170.88s/it]"
          ]
        },
        {
          "metadata": {
            "tags": null
          },
          "name": "stdout",
          "output_type": "stream",
          "text": [
            "0 6 [25, 81, 25, 87]\n"
          ]
        },
        {
          "metadata": {
            "tags": null
          },
          "name": "stderr",
          "output_type": "stream",
          "text": [
            "  3%|▎         | 3/100 [03:37<1:30:58, 56.27s/it]"
          ]
        },
        {
          "metadata": {
            "tags": null
          },
          "name": "stdout",
          "output_type": "stream",
          "text": [
            "2 0 [20, 98, 22, 98]\n"
          ]
        },
        {
          "metadata": {
            "tags": null
          },
          "name": "stderr",
          "output_type": "stream",
          "text": [
            "\r  4%|▍         | 4/100 [03:58<1:08:20, 42.71s/it]"
          ]
        },
        {
          "metadata": {
            "tags": null
          },
          "name": "stdout",
          "output_type": "stream",
          "text": [
            "0 2 [128, 54, 128, 56]\n"
          ]
        },
        {
          "metadata": {
            "tags": null
          },
          "name": "stderr",
          "output_type": "stream",
          "text": [
            "  8%|▊         | 8/100 [05:32<41:32, 27.09s/it]"
          ]
        },
        {
          "metadata": {
            "tags": null
          },
          "name": "stdout",
          "output_type": "stream",
          "text": [
            "0 2 [50, 165, 50, 167]\n",
            "0 4 [50, 154, 50, 158]\n",
            "0 2 [50, 165, 50, 167]\n"
          ]
        },
        {
          "metadata": {
            "tags": null
          },
          "name": "stderr",
          "output_type": "stream",
          "text": [
            " 23%|██▎       | 23/100 [11:15<29:12, 22.77s/it]"
          ]
        },
        {
          "metadata": {
            "tags": null
          },
          "name": "stdout",
          "output_type": "stream",
          "text": [
            "0 2 [19, 93, 19, 95]\n"
          ]
        },
        {
          "metadata": {
            "tags": null
          },
          "name": "stderr",
          "output_type": "stream",
          "text": [
            " 30%|███       | 30/100 [13:53<26:55, 23.08s/it]"
          ]
        },
        {
          "metadata": {
            "tags": null
          },
          "name": "stdout",
          "output_type": "stream",
          "text": [
            "3 0 [99, 399, 102, 399]\n"
          ]
        },
        {
          "metadata": {
            "tags": null
          },
          "name": "stderr",
          "output_type": "stream",
          "text": [
            "\r 31%|███       | 31/100 [14:15<26:10, 22.76s/it]"
          ]
        },
        {
          "metadata": {
            "tags": null
          },
          "name": "stdout",
          "output_type": "stream",
          "text": [
            "1 0 [59, 81, 60, 81]\n",
            "0 1 [27, 152, 27, 153]\n"
          ]
        },
        {
          "metadata": {
            "tags": null
          },
          "name": "stderr",
          "output_type": "stream",
          "text": [
            " 33%|███▎      | 33/100 [15:00<25:12, 22.57s/it]"
          ]
        },
        {
          "metadata": {
            "tags": null
          },
          "name": "stdout",
          "output_type": "stream",
          "text": [
            "0 9 [60, 178, 60, 187]\n"
          ]
        },
        {
          "metadata": {
            "tags": null
          },
          "name": "stderr",
          "output_type": "stream",
          "text": [
            "\r 34%|███▍      | 34/100 [15:23<24:50, 22.59s/it]"
          ]
        },
        {
          "metadata": {
            "tags": null
          },
          "name": "stdout",
          "output_type": "stream",
          "text": [
            "0 7 [26, 344, 26, 351]\n"
          ]
        },
        {
          "metadata": {
            "tags": null
          },
          "name": "stderr",
          "output_type": "stream",
          "text": [
            "\r 35%|███▌      | 35/100 [15:46<24:35, 22.70s/it]"
          ]
        },
        {
          "metadata": {
            "tags": null
          },
          "name": "stdout",
          "output_type": "stream",
          "text": [
            "4 0 [82, 29, 86, 29]\n",
            "1 0 [118, 105, 119, 105]\n"
          ]
        },
        {
          "metadata": {
            "tags": null
          },
          "name": "stderr",
          "output_type": "stream",
          "text": [
            "\r 36%|███▌      | 36/100 [16:07<23:53, 22.40s/it]"
          ]
        },
        {
          "metadata": {
            "tags": null
          },
          "name": "stdout",
          "output_type": "stream",
          "text": [
            "0 29 [215, 66, 215, 95]\n",
            "0 29 [215, 66, 215, 95]\n"
          ]
        },
        {
          "metadata": {
            "tags": null
          },
          "name": "stderr",
          "output_type": "stream",
          "text": [
            " 40%|████      | 40/100 [17:41<22:53, 22.90s/it]"
          ]
        },
        {
          "metadata": {
            "tags": null
          },
          "name": "stdout",
          "output_type": "stream",
          "text": [
            "0 3 [23, 130, 23, 133]\n"
          ]
        },
        {
          "metadata": {
            "tags": null
          },
          "name": "stderr",
          "output_type": "stream",
          "text": [
            " 45%|████▌     | 45/100 [19:35<21:05, 23.01s/it]"
          ]
        },
        {
          "metadata": {
            "tags": null
          },
          "name": "stdout",
          "output_type": "stream",
          "text": [
            "2 0 [24, 173, 26, 173]\n"
          ]
        },
        {
          "metadata": {
            "tags": null
          },
          "name": "stderr",
          "output_type": "stream",
          "text": [
            " 48%|████▊     | 48/100 [20:43<19:41, 22.72s/it]"
          ]
        },
        {
          "metadata": {
            "tags": null
          },
          "name": "stdout",
          "output_type": "stream",
          "text": [
            "0 4 [26, 272, 26, 276]\n",
            "0 4 [26, 272, 26, 276]\n",
            "0 1 [76, 310, 76, 311]\n"
          ]
        },
        {
          "output_type": "stream",
          "name": "stderr",
          "text": [
            " 50%|█████     | 50/100 [21:27<18:41, 22.42s/it]"
          ]
        },
        {
          "output_type": "stream",
          "name": "stdout",
          "text": [
            "4 0 [29, 26, 33, 26]\n"
          ]
        },
        {
          "output_type": "stream",
          "name": "stderr",
          "text": [
            " 53%|█████▎    | 53/100 [22:35<17:33, 22.41s/it]"
          ]
        },
        {
          "output_type": "stream",
          "name": "stdout",
          "text": [
            "0 1 [35, 0, 35, 1]\n",
            "0 1 [35, 9, 35, 10]\n",
            "0 0 [3, 13, 3, 13]\n"
          ]
        },
        {
          "output_type": "stream",
          "name": "stderr",
          "text": [
            " 55%|█████▌    | 55/100 [23:18<16:35, 22.12s/it]"
          ]
        },
        {
          "output_type": "stream",
          "name": "stdout",
          "text": [
            "1 0 [163, 221, 164, 221]\n",
            "1 0 [163, 221, 164, 221]\n"
          ]
        },
        {
          "output_type": "stream",
          "name": "stderr",
          "text": [
            "\r 56%|█████▌    | 56/100 [23:41<16:20, 22.27s/it]"
          ]
        },
        {
          "output_type": "stream",
          "name": "stdout",
          "text": [
            "4 0 [16, 134, 20, 134]\n",
            "0 1 [65, 139, 65, 140]\n",
            "6 0 [29, 116, 35, 116]\n",
            "6 0 [29, 116, 35, 116]\n",
            "6 0 [29, 116, 35, 116]\n",
            "0 9 [55, 75, 55, 84]\n"
          ]
        },
        {
          "output_type": "stream",
          "name": "stderr",
          "text": [
            " 59%|█████▉    | 59/100 [24:48<15:17, 22.38s/it]"
          ]
        },
        {
          "output_type": "stream",
          "name": "stdout",
          "text": [
            "0 12 [33, 51, 33, 63]\n"
          ]
        },
        {
          "output_type": "stream",
          "name": "stderr",
          "text": [
            " 61%|██████    | 61/100 [25:34<14:41, 22.60s/it]"
          ]
        },
        {
          "output_type": "stream",
          "name": "stdout",
          "text": [
            "0 24 [22, 0, 22, 24]\n",
            "0 21 [22, 0, 22, 21]\n",
            "0 24 [22, 0, 22, 24]\n",
            "0 24 [22, 0, 22, 24]\n",
            "0 24 [22, 0, 22, 24]\n",
            "0 24 [22, 0, 22, 24]\n",
            "0 25 [22, 0, 22, 25]\n",
            "0 26 [22, 0, 22, 26]\n",
            "0 26 [22, 0, 22, 26]\n"
          ]
        },
        {
          "output_type": "stream",
          "name": "stderr",
          "text": [
            " 67%|██████▋   | 67/100 [27:49<12:25, 22.59s/it]"
          ]
        },
        {
          "output_type": "stream",
          "name": "stdout",
          "text": [
            "0 19 [22, 184, 22, 203]\n"
          ]
        },
        {
          "output_type": "stream",
          "name": "stderr",
          "text": [
            " 73%|███████▎  | 73/100 [30:04<10:05, 22.41s/it]"
          ]
        },
        {
          "output_type": "stream",
          "name": "stdout",
          "text": [
            "0 32 [63, 0, 63, 32]\n",
            "0 32 [63, 0, 63, 32]\n"
          ]
        },
        {
          "output_type": "stream",
          "name": "stderr",
          "text": [
            " 75%|███████▌  | 75/100 [30:49<09:18, 22.34s/it]"
          ]
        },
        {
          "output_type": "stream",
          "name": "stdout",
          "text": [
            "0 4 [93, 170, 93, 174]\n"
          ]
        },
        {
          "output_type": "stream",
          "name": "stderr",
          "text": [
            " 77%|███████▋  | 77/100 [31:34<08:33, 22.31s/it]"
          ]
        },
        {
          "output_type": "stream",
          "name": "stdout",
          "text": [
            "0 7 [73, 136, 73, 143]\n",
            "0 8 [32, 1, 32, 9]\n",
            "0 7 [68, 176, 68, 183]\n",
            "0 7 [68, 176, 68, 183]\n"
          ]
        },
        {
          "output_type": "stream",
          "name": "stderr",
          "text": [
            " 79%|███████▉  | 79/100 [32:18<07:46, 22.20s/it]"
          ]
        },
        {
          "output_type": "stream",
          "name": "stdout",
          "text": [
            "1 0 [37, 63, 38, 63]\n"
          ]
        },
        {
          "output_type": "stream",
          "name": "stderr",
          "text": [
            " 82%|████████▏ | 82/100 [33:24<06:38, 22.16s/it]"
          ]
        },
        {
          "output_type": "stream",
          "name": "stdout",
          "text": [
            "0 4 [32, 69, 32, 73]\n"
          ]
        },
        {
          "output_type": "stream",
          "name": "stderr",
          "text": [
            " 96%|█████████▌| 96/100 [38:38<01:30, 22.61s/it]"
          ]
        },
        {
          "output_type": "stream",
          "name": "stdout",
          "text": [
            "0 3 [33, 4, 33, 7]\n"
          ]
        },
        {
          "output_type": "stream",
          "name": "stderr",
          "text": [
            "100%|██████████| 100/100 [40:08<00:00, 24.09s/it]\n"
          ]
        }
      ]
    },
    {
      "cell_type": "code",
      "source": [
        "miou_mean_4_100, pixacc_mean_4_100 = export_csv(miou_table_4, pix_acc_table_4, miou_csv_name=\"random_miou_4_100.csv\", pix_acc_csv_name=\"random_pix_acc_4_100.csv\")\n",
        "print(\"miou per class difference\\n\", miou_mean_4_100-miou_mean_default_100)\n"
      ],
      "metadata": {
        "colab": {
          "base_uri": "https://localhost:8080/"
        },
        "id": "wOHkL9SG6XU7",
        "outputId": "2b8d8375-f32c-4467-ebd6-ec423f4b6ad8"
      },
      "execution_count": null,
      "outputs": [
        {
          "output_type": "stream",
          "name": "stdout",
          "text": [
            "\n",
            "miou per class difference\n",
            " Background      0.000000\n",
            "Hat            -0.028639\n",
            "Hair           -0.039319\n",
            "Glove          -0.031491\n",
            "Sunglasses      0.036205\n",
            "UpperClothes   -0.042745\n",
            "Dress           0.000000\n",
            "Coat           -0.001568\n",
            "Socks           0.009255\n",
            "Pants          -0.041042\n",
            "Jumpsuits      -0.007388\n",
            "Scarf                NaN\n",
            "Skirt          -0.178598\n",
            "Face           -0.002003\n",
            "Left-arm       -0.024950\n",
            "Right-arm       0.014727\n",
            "Left-leg        0.046555\n",
            "Right-leg       0.024230\n",
            "Left-shoe      -0.028566\n",
            "Right-shoe      0.014470\n",
            "dtype: float64\n"
          ]
        }
      ]
    }
  ]
}